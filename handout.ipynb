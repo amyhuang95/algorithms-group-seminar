{
  "nbformat": 4,
  "nbformat_minor": 0,
  "metadata": {
    "colab": {
      "provenance": [],
      "toc_visible": true
    },
    "kernelspec": {
      "name": "python3",
      "display_name": "Python 3"
    },
    "language_info": {
      "name": "python"
    }
  },
  "cells": [
    {
      "cell_type": "markdown",
      "source": [
        "# CS5800 Algorithms Group Seminar Handout\n",
        "Students:"
      ],
      "metadata": {
        "id": "xRLW_aQ8ELGJ"
      }
    },
    {
      "cell_type": "markdown",
      "source": [
        "# **soso**"
      ],
      "metadata": {
        "id": "Mlx28RAQNG86"
      }
    },
    {
      "cell_type": "code",
      "source": [
        "https://leetcode.com/problems/sudoku-solver/description/  #37 backtrack  hard               # maybe for pre"
      ],
      "metadata": {
        "id": "nRWlQc_1EQDi"
      },
      "execution_count": null,
      "outputs": []
    },
    {
      "cell_type": "code",
      "source": [
        "https://leetcode.com/problems/palindromic-substrings/description/  #647 dp  medium"
      ],
      "metadata": {
        "id": "zENF4q_SKIA1"
      },
      "execution_count": null,
      "outputs": []
    },
    {
      "cell_type": "code",
      "source": [
        "https://leetcode.com/problems/minimum-depth-of-binary-tree/description/  #111 dfs easy"
      ],
      "metadata": {
        "id": "Yz8WXwfiJGVT"
      },
      "execution_count": null,
      "outputs": []
    }
  ]
}